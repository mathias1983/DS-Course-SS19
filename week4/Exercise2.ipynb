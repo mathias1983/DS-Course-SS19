{
 "cells": [
  {
   "cell_type": "code",
   "execution_count": 1,
   "metadata": {},
   "outputs": [],
   "source": [
    "import os\n",
    "import pandas as pd"
   ]
  },
  {
   "cell_type": "code",
   "execution_count": 2,
   "metadata": {},
   "outputs": [],
   "source": [
    "directory = os.fsencode('/home/mathias/PhpstormProjects/DataScience/week4/data/return-data')\n",
    "\n",
    "df = []\n",
    "\n",
    "for filename in os.listdir(directory):\n",
    "    file = os.path.join(directory, filename).decode(\"utf-8\")\n",
    "    df.append(pd.read_json(file, lines=True))\n",
    "   \n",
    "result = pd.concat(df)"
   ]
  },
  {
   "cell_type": "code",
   "execution_count": 3,
   "metadata": {},
   "outputs": [
    {
     "data": {
      "text/html": [
       "<div>\n",
       "<style scoped>\n",
       "    .dataframe tbody tr th:only-of-type {\n",
       "        vertical-align: middle;\n",
       "    }\n",
       "\n",
       "    .dataframe tbody tr th {\n",
       "        vertical-align: top;\n",
       "    }\n",
       "\n",
       "    .dataframe thead th {\n",
       "        text-align: right;\n",
       "    }\n",
       "</style>\n",
       "<table border=\"1\" class=\"dataframe\">\n",
       "  <thead>\n",
       "    <tr style=\"text-align: right;\">\n",
       "      <th></th>\n",
       "      <th>basket</th>\n",
       "      <th>returnLabel</th>\n",
       "      <th>totalAmount</th>\n",
       "      <th>transactionId</th>\n",
       "      <th>zipCode</th>\n",
       "    </tr>\n",
       "  </thead>\n",
       "  <tbody>\n",
       "    <tr>\n",
       "      <th>0</th>\n",
       "      <td>[4, 1, 5, 2, 2, 3, 4, 0, 4, 0, 3]</td>\n",
       "      <td>0</td>\n",
       "      <td>891</td>\n",
       "      <td>1007115501</td>\n",
       "      <td>1838</td>\n",
       "    </tr>\n",
       "    <tr>\n",
       "      <th>1</th>\n",
       "      <td>[5, 5, 1, 5, 1, 2]</td>\n",
       "      <td>0</td>\n",
       "      <td>396</td>\n",
       "      <td>3580371052</td>\n",
       "      <td>2413</td>\n",
       "    </tr>\n",
       "    <tr>\n",
       "      <th>2</th>\n",
       "      <td>[1, 2, 2, 3, 0, 2]</td>\n",
       "      <td>0</td>\n",
       "      <td>660</td>\n",
       "      <td>6590707155</td>\n",
       "      <td>8821</td>\n",
       "    </tr>\n",
       "    <tr>\n",
       "      <th>3</th>\n",
       "      <td>[1, 1, 1, 4, 1, 4]</td>\n",
       "      <td>0</td>\n",
       "      <td>216</td>\n",
       "      <td>3727164678</td>\n",
       "      <td>7065</td>\n",
       "    </tr>\n",
       "    <tr>\n",
       "      <th>4</th>\n",
       "      <td>[4]</td>\n",
       "      <td>0</td>\n",
       "      <td>87</td>\n",
       "      <td>1926170114</td>\n",
       "      <td>2072</td>\n",
       "    </tr>\n",
       "  </tbody>\n",
       "</table>\n",
       "</div>"
      ],
      "text/plain": [
       "                              basket  returnLabel  totalAmount  transactionId  \\\n",
       "0  [4, 1, 5, 2, 2, 3, 4, 0, 4, 0, 3]            0          891     1007115501   \n",
       "1                 [5, 5, 1, 5, 1, 2]            0          396     3580371052   \n",
       "2                 [1, 2, 2, 3, 0, 2]            0          660     6590707155   \n",
       "3                 [1, 1, 1, 4, 1, 4]            0          216     3727164678   \n",
       "4                                [4]            0           87     1926170114   \n",
       "\n",
       "   zipCode  \n",
       "0     1838  \n",
       "1     2413  \n",
       "2     8821  \n",
       "3     7065  \n",
       "4     2072  "
      ]
     },
     "execution_count": 3,
     "metadata": {},
     "output_type": "execute_result"
    }
   ],
   "source": [
    "result.head()"
   ]
  }
 ],
 "metadata": {
  "kernelspec": {
   "display_name": "Python 3",
   "language": "python",
   "name": "python3"
  },
  "language_info": {
   "codemirror_mode": {
    "name": "ipython",
    "version": 3
   },
   "file_extension": ".py",
   "mimetype": "text/x-python",
   "name": "python",
   "nbconvert_exporter": "python",
   "pygments_lexer": "ipython3",
   "version": "3.7.3"
  }
 },
 "nbformat": 4,
 "nbformat_minor": 2
}
